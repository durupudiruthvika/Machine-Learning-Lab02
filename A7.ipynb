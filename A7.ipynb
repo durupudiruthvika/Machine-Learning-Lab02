{
 "cells": [
  {
   "cell_type": "code",
   "execution_count": 1,
   "id": "6efd20e8",
   "metadata": {},
   "outputs": [
    {
     "name": "stdout",
     "output_type": "stream",
     "text": [
      "Normalized Data:\n",
      "         A1        A2\n",
      "0 -0.430867 -0.459127\n",
      "1 -0.164907 -0.254342\n",
      "2 -0.696766 -0.377213\n",
      "3 -0.670231 -0.866648\n",
      "4  1.962770  1.957331\n"
     ]
    }
   ],
   "source": [
    "\"\"\" # A7.Data Normalization / Scaling: from the data study, identify the attributes which may need\n",
    "normalization. Employ appropriate normalization techniques to create normalized set of data.\"\"\"\n",
    "import pandas as pd\n",
    "import numpy as np\n",
    "import matplotlib.pyplot as plt\n",
    "import seaborn as sns\n",
    "from sklearn.preprocessing import MinMaxScaler , StandardScaler\n",
    "\n",
    "data = pd.DataFrame({'A1': [100, 200, 0.023, 10, 1000],'A2': [10, 15, 12, 0.05, 69]})\n",
    "\n",
    "attributes_to_normalize = ['A1', 'A2']\n",
    "\n",
    "\n",
    "min_max_scaler = MinMaxScaler()\n",
    "data[attributes_to_normalize] = min_max_scaler.fit_transform(data[attributes_to_normalize])\n",
    "\n",
    "standard_scaler = StandardScaler()\n",
    "data[attributes_to_normalize] = standard_scaler.fit_transform(data[attributes_to_normalize])\n",
    "\n",
    "\n",
    "print(\"Normalized Data:\")\n",
    "print(data)\n"
   ]
  },
  {
   "cell_type": "code",
   "execution_count": null,
   "id": "c86b8185-d801-4906-a834-04bfbeb6281f",
   "metadata": {},
   "outputs": [],
   "source": []
  }
 ],
 "metadata": {
  "kernelspec": {
   "display_name": "Python 3 (ipykernel)",
   "language": "python",
   "name": "python3"
  },
  "language_info": {
   "codemirror_mode": {
    "name": "ipython",
    "version": 3
   },
   "file_extension": ".py",
   "mimetype": "text/x-python",
   "name": "python",
   "nbconvert_exporter": "python",
   "pygments_lexer": "ipython3",
   "version": "3.12.4"
  }
 },
 "nbformat": 4,
 "nbformat_minor": 5
}
