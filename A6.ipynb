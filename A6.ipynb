{
 "cells": [
  {
   "cell_type": "code",
   "execution_count": 2,
   "id": "6abbc720",
   "metadata": {},
   "outputs": [
    {
     "name": "stdout",
     "output_type": "stream",
     "text": [
      "   Numeric_No_Outliers  Numeric_With_Outliers Categorical\n",
      "0                 10.0                    1.0           A\n",
      "1                 20.0                    2.0           B\n",
      "2                 30.0                    3.0           A\n",
      "3                 25.0                  100.0           A\n",
      "4                 40.0                    2.5           B\n"
     ]
    }
   ],
   "source": [
    "import pandas as pd\n",
    "\n",
    "# Sample DataFrame\n",
    "data = {\n",
    "    'Numeric_No_Outliers': [10, 20, 30, None, 40],\n",
    "    'Numeric_With_Outliers': [1, 2, 3, 100, None],\n",
    "    'Categorical': ['A', 'B', None, 'A', 'B']\n",
    "}\n",
    "df = pd.DataFrame(data)\n",
    "\n",
    "def impute_data(df):\n",
    "    for column in df.columns:\n",
    "        if df[column].dtype in ['float64', 'int64']:\n",
    "            # Check for outliers using IQR method\n",
    "            Q1 = df[column].quantile(0.25)\n",
    "            Q3 = df[column].quantile(0.75)\n",
    "            IQR = Q3 - Q1\n",
    "            lower_bound = Q1 - 1.5 * IQR\n",
    "            upper_bound = Q3 + 1.5 * IQR\n",
    "            \n",
    "            # Determine if there are outliers\n",
    "            if df[column].min() < lower_bound or df[column].max() > upper_bound:\n",
    "                # Use median for numeric attributes with outliers\n",
    "                df[column] = df[column].fillna(df[column].median())\n",
    "            else:\n",
    "                # Use mean for numeric attributes without outliers\n",
    "                df[column] = df[column].fillna(df[column].mean())\n",
    "        elif df[column].dtype == 'object':\n",
    "            # Use mode for categorical attributes\n",
    "            df[column] = df[column].fillna(df[column].mode()[0])\n",
    "\n",
    "# Impute missing values\n",
    "impute_data(df)\n",
    "\n",
    "# Check the result\n",
    "print(df)"
   ]
  },
  {
   "cell_type": "code",
   "execution_count": null,
   "id": "9a67cced-ed4c-43f9-97a5-cad93ab9235b",
   "metadata": {},
   "outputs": [],
   "source": []
  }
 ],
 "metadata": {
  "kernelspec": {
   "display_name": "Python 3 (ipykernel)",
   "language": "python",
   "name": "python3"
  },
  "language_info": {
   "codemirror_mode": {
    "name": "ipython",
    "version": 3
   },
   "file_extension": ".py",
   "mimetype": "text/x-python",
   "name": "python",
   "nbconvert_exporter": "python",
   "pygments_lexer": "ipython3",
   "version": "3.12.4"
  }
 },
 "nbformat": 4,
 "nbformat_minor": 5
}
