{
 "cells": [
  {
   "cell_type": "code",
   "execution_count": 2,
   "metadata": {
    "colab": {
     "base_uri": "https://localhost:8080/"
    },
    "id": "eDWNRMJJcoI7",
    "outputId": "e63c7712-c28c-49fa-de91-cb949f796e38"
   },
   "outputs": [
    {
     "name": "stdout",
     "output_type": "stream",
     "text": [
      "  Customer  Candies (#)  Mangoes (Kg)  Milk Packets (#)  Payment (Rs)  \\\n",
      "0      C_1           20             6                 2           386   \n",
      "1      C_2           16             3                 6           289   \n",
      "2      C_3           27             6                 2           393   \n",
      "3      C_4           19             1                 2           110   \n",
      "4      C_5           24             4                 2           280   \n",
      "\n",
      "   Unnamed: 5  Unnamed: 6  Unnamed: 7  Unnamed: 8  Unnamed: 9  ...  \\\n",
      "0         NaN         NaN         NaN         NaN         NaN  ...   \n",
      "1         NaN         NaN         NaN         NaN         NaN  ...   \n",
      "2         NaN         NaN         NaN         NaN         NaN  ...   \n",
      "3         NaN         NaN         NaN         NaN         NaN  ...   \n",
      "4         NaN         NaN         NaN         NaN         NaN  ...   \n",
      "\n",
      "   Unnamed: 12  Unnamed: 13  Unnamed: 14  Unnamed: 15  Unnamed: 16  \\\n",
      "0          NaN          NaN          NaN          NaN          NaN   \n",
      "1          NaN          NaN          NaN          NaN          NaN   \n",
      "2          NaN          NaN          NaN          NaN          NaN   \n",
      "3          NaN          NaN          NaN          NaN          NaN   \n",
      "4          NaN          NaN          NaN          NaN          NaN   \n",
      "\n",
      "   Unnamed: 17  Unnamed: 18  Candy  Mango  Milk  \n",
      "0          NaN          NaN    1.0   55.0  18.0  \n",
      "1          NaN          NaN    NaN    NaN   NaN  \n",
      "2          NaN          NaN    NaN    NaN   NaN  \n",
      "3          NaN          NaN    NaN    NaN   NaN  \n",
      "4          NaN          NaN    NaN    NaN   NaN  \n",
      "\n",
      "[5 rows x 22 columns]\n",
      "Cleaned DataFrame\n",
      "   Candies (#)  Mangoes (Kg)  Milk Packets (#)  Payment (Rs)\n",
      "0           20             6                 2           386\n",
      "1           16             3                 6           289\n",
      "2           27             6                 2           393\n",
      "3           19             1                 2           110\n",
      "4           24             4                 2           280\n",
      "   Candies (#)  Mangoes (Kg)  Milk Packets (#)  Payment (Rs) Customer Type\n",
      "0           20             6                 2           386          RICH\n",
      "1           16             3                 6           289          RICH\n",
      "2           27             6                 2           393          RICH\n",
      "3           19             1                 2           110          POOR\n",
      "4           24             4                 2           280          RICH\n"
     ]
    }
   ],
   "source": [
    "import pandas as pd\n",
    "import numpy as np \n",
    "\n",
    "file_path = 'Lab Session Data.xlsx '\n",
    "df = pd.read_excel(file_path,sheet_name = 'Purchase data')\n",
    "print(df.head())\n",
    "df_cleaned = df[['Candies (#)',\t'Mangoes (Kg)',\t'Milk Packets (#)','Payment (Rs)']].dropna()\n",
    "\n",
    "print(\"Cleaned DataFrame\")\n",
    "print(df_cleaned.head())\n",
    "\n",
    "df_cleaned['Customer Type'] = np.where(df_cleaned['Payment (Rs)'] > 200, 'RICH', 'POOR')\n",
    "print(df_cleaned.head())"
   ]
  },
  {
   "cell_type": "code",
   "execution_count": null,
   "metadata": {},
   "outputs": [],
   "source": []
  }
 ],
 "metadata": {
  "colab": {
   "authorship_tag": "ABX9TyOdws+6a/0pgRyFqfPAq+R/",
   "include_colab_link": true,
   "mount_file_id": "1AFHNLaVxfFhznLXV0-8FIv9A0oSCKIdf",
   "provenance": []
  },
  "kernelspec": {
   "display_name": "Python 3 (ipykernel)",
   "language": "python",
   "name": "python3"
  },
  "language_info": {
   "codemirror_mode": {
    "name": "ipython",
    "version": 3
   },
   "file_extension": ".py",
   "mimetype": "text/x-python",
   "name": "python",
   "nbconvert_exporter": "python",
   "pygments_lexer": "ipython3",
   "version": "3.12.4"
  }
 },
 "nbformat": 4,
 "nbformat_minor": 4
}
