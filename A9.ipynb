{
 "cells": [
  {
   "cell_type": "code",
   "execution_count": 2,
   "id": "0c601b97",
   "metadata": {},
   "outputs": [
    {
     "name": "stdout",
     "output_type": "stream",
     "text": [
      "Cosine Similarity: 0.7535458719368691\n"
     ]
    }
   ],
   "source": [
    "import pandas as pd \n",
    "import numpy as np \n",
    "from sklearn.metrics.pairwise import cosine_similarity\n",
    "\n",
    "data= [ [1, 0.2, 0.5, 0.3],\n",
    "    [0.5, 0.7, 0.8, 0.9]]\n",
    "v1 = np.array(data[0])\n",
    "v2 = np.array(data[1])\n",
    "\n",
    "dot_product = np.dot(v1, v2)\n",
    "norm_v1 = np.linalg.norm(v1)\n",
    "norm_v2 = np.linalg.norm(v2)\n",
    "\n",
    "cosine_similarity = dot_product/(norm_v1 *norm_v2)\n",
    "print(\"Cosine Similarity:\", cosine_similarity)\n"
   ]
  },
  {
   "cell_type": "code",
   "execution_count": null,
   "id": "42dfcdc1",
   "metadata": {},
   "outputs": [],
   "source": []
  }
 ],
 "metadata": {
  "kernelspec": {
   "display_name": "Python 3 (ipykernel)",
   "language": "python",
   "name": "python3"
  },
  "language_info": {
   "codemirror_mode": {
    "name": "ipython",
    "version": 3
   },
   "file_extension": ".py",
   "mimetype": "text/x-python",
   "name": "python",
   "nbconvert_exporter": "python",
   "pygments_lexer": "ipython3",
   "version": "3.12.4"
  }
 },
 "nbformat": 4,
 "nbformat_minor": 5
}
