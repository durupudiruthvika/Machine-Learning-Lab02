{
 "cells": [
  {
   "cell_type": "code",
   "execution_count": 1,
   "metadata": {
    "colab": {
     "base_uri": "https://localhost:8080/"
    },
    "id": "eDWNRMJJcoI7",
    "outputId": "2465061e-f80c-4be3-cdb0-34ff92c327c7"
   },
   "outputs": [
    {
     "name": "stdout",
     "output_type": "stream",
     "text": [
      "Initial DataFrame:\n",
      "  Customer  Candies (#)  Mangoes (Kg)  Milk Packets (#)  Payment (Rs)  \\\n",
      "0      C_1           20             6                 2           386   \n",
      "1      C_2           16             3                 6           289   \n",
      "2      C_3           27             6                 2           393   \n",
      "3      C_4           19             1                 2           110   \n",
      "4      C_5           24             4                 2           280   \n",
      "\n",
      "   Unnamed: 5  Unnamed: 6  Unnamed: 7  Unnamed: 8  Unnamed: 9  ...  \\\n",
      "0         NaN         NaN         NaN         NaN         NaN  ...   \n",
      "1         NaN         NaN         NaN         NaN         NaN  ...   \n",
      "2         NaN         NaN         NaN         NaN         NaN  ...   \n",
      "3         NaN         NaN         NaN         NaN         NaN  ...   \n",
      "4         NaN         NaN         NaN         NaN         NaN  ...   \n",
      "\n",
      "   Unnamed: 12  Unnamed: 13  Unnamed: 14  Unnamed: 15  Unnamed: 16  \\\n",
      "0          NaN          NaN          NaN          NaN          NaN   \n",
      "1          NaN          NaN          NaN          NaN          NaN   \n",
      "2          NaN          NaN          NaN          NaN          NaN   \n",
      "3          NaN          NaN          NaN          NaN          NaN   \n",
      "4          NaN          NaN          NaN          NaN          NaN   \n",
      "\n",
      "   Unnamed: 17  Unnamed: 18  Candy  Mango  Milk  \n",
      "0          NaN          NaN    1.0   55.0  18.0  \n",
      "1          NaN          NaN    NaN    NaN   NaN  \n",
      "2          NaN          NaN    NaN    NaN   NaN  \n",
      "3          NaN          NaN    NaN    NaN   NaN  \n",
      "4          NaN          NaN    NaN    NaN   NaN  \n",
      "\n",
      "[5 rows x 22 columns]\n",
      "Cleaned DataFrame:\n",
      "   Candies (#)  Mangoes (Kg)  Milk Packets (#)  Payment (Rs)\n",
      "0           20             6                 2           386\n",
      "1           16             3                 6           289\n",
      "2           27             6                 2           393\n",
      "3           19             1                 2           110\n",
      "4           24             4                 2           280\n",
      "Dimensionality of the vector space: 3\n",
      "Number of vectors in the vector space: 10\n",
      "Rank of Matrix A: 3\n",
      "Product costs: [ 1. 55. 18.]\n"
     ]
    }
   ],
   "source": [
    "import pandas as pd\n",
    "import numpy as np\n",
    "\n",
    "# Load the data\n",
    "file_path = 'Lab Session Data.xlsx'\n",
    "df = pd.read_excel(file_path, sheet_name='Purchase data')\n",
    "\n",
    "# Print the initial DataFrame to inspect\n",
    "print(\"Initial DataFrame:\")\n",
    "print(df.head())\n",
    "\n",
    "# Select only relevant columns and drop NaN values\n",
    "df_cleaned = df[['Candies (#)', 'Mangoes (Kg)', 'Milk Packets (#)', 'Payment (Rs)']].dropna()\n",
    "\n",
    "# Print the cleaned DataFrame\n",
    "print(\"Cleaned DataFrame:\")\n",
    "print(df_cleaned.head())\n",
    "\n",
    "# Assuming the last column is the total cost (C) and the rest are product quantities (A)\n",
    "A = df_cleaned.iloc[:, :-1].values  # All columns except the last one\n",
    "C = df_cleaned.iloc[:, -1].values   # The last column\n",
    "\n",
    "# Ensure A and C are numeric numpy arrays\n",
    "A = A.astype(np.float64)\n",
    "C = C.astype(np.float64)\n",
    "\n",
    "# Dimensionality of the vector space\n",
    "dimensionality = A.shape[1]\n",
    "\n",
    "# Number of vectors in the vector space\n",
    "num_vectors = A.shape[0]\n",
    "\n",
    "# Rank of Matrix A\n",
    "rank_A = np.linalg.matrix_rank(A)\n",
    "\n",
    "# Pseudo-Inverse of A\n",
    "A_pseudo_inverse = np.linalg.pinv(A)\n",
    "\n",
    "# Cost of each product\n",
    "product_costs = A_pseudo_inverse @ C\n",
    "\n",
    "# Display results\n",
    "print(f\"Dimensionality of the vector space: {dimensionality}\")\n",
    "print(f\"Number of vectors in the vector space: {num_vectors}\")\n",
    "print(f\"Rank of Matrix A: {rank_A}\")\n",
    "print(f\"Product costs: {product_costs}\")\n",
    "\n"
   ]
  },
  {
   "cell_type": "code",
   "execution_count": null,
   "metadata": {},
   "outputs": [],
   "source": []
  }
 ],
 "metadata": {
  "colab": {
   "authorship_tag": "ABX9TyML+d0vHELA/h92EEpyXUv0",
   "include_colab_link": true,
   "mount_file_id": "1AFHNLaVxfFhznLXV0-8FIv9A0oSCKIdf",
   "provenance": []
  },
  "kernelspec": {
   "display_name": "Python 3 (ipykernel)",
   "language": "python",
   "name": "python3"
  },
  "language_info": {
   "codemirror_mode": {
    "name": "ipython",
    "version": 3
   },
   "file_extension": ".py",
   "mimetype": "text/x-python",
   "name": "python",
   "nbconvert_exporter": "python",
   "pygments_lexer": "ipython3",
   "version": "3.12.4"
  }
 },
 "nbformat": 4,
 "nbformat_minor": 4
}
