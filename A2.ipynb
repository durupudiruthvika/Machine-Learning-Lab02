{
 "cells": [
  {
   "cell_type": "code",
   "execution_count": 1,
   "metadata": {
    "colab": {
     "base_uri": "https://localhost:8080/"
    },
    "id": "eDWNRMJJcoI7",
    "outputId": "a4ec6c78-684d-4443-e581-9603a62992ef"
   },
   "outputs": [
    {
     "name": "stdout",
     "output_type": "stream",
     "text": [
      "Product costs: [ 1. 55. 18.]\n"
     ]
    }
   ],
   "source": [
    "import pandas as pd\n",
    "import numpy as np\n",
    "\n",
    "# Load the data\n",
    "file_path = 'Lab Session Data.xlsx'\n",
    "df = pd.read_excel(file_path, sheet_name='Purchase data')\n",
    "\n",
    "# Clean the data\n",
    "df_cleaned = df[['Candies (#)', 'Mangoes (Kg)', 'Milk Packets (#)', 'Payment (Rs)']].dropna()\n",
    "\n",
    "# Extract features and target variable\n",
    "A = df_cleaned.iloc[:, :-1].values  # Product quantities\n",
    "C = df_cleaned.iloc[:, -1].values   # Payment\n",
    "\n",
    "# Ensure A and C are numeric numpy arrays\n",
    "A = A.astype(np.float64)\n",
    "C = C.astype(np.float64)\n",
    "\n",
    "# Compute the pseudo-inverse of A\n",
    "A_pseudo_inverse = np.linalg.pinv(A)\n",
    "\n",
    "# Calculate the model vector X (product costs)\n",
    "product_costs = A_pseudo_inverse @ C\n",
    "\n",
    "# Display the product costs\n",
    "print(\"Product costs:\", product_costs)\n"
   ]
  },
  {
   "cell_type": "code",
   "execution_count": null,
   "metadata": {},
   "outputs": [],
   "source": []
  }
 ],
 "metadata": {
  "colab": {
   "authorship_tag": "ABX9TyO4cXjinEDs1wNZveIO5MWY",
   "include_colab_link": true,
   "mount_file_id": "1AFHNLaVxfFhznLXV0-8FIv9A0oSCKIdf",
   "provenance": []
  },
  "kernelspec": {
   "display_name": "Python 3 (ipykernel)",
   "language": "python",
   "name": "python3"
  },
  "language_info": {
   "codemirror_mode": {
    "name": "ipython",
    "version": 3
   },
   "file_extension": ".py",
   "mimetype": "text/x-python",
   "name": "python",
   "nbconvert_exporter": "python",
   "pygments_lexer": "ipython3",
   "version": "3.12.4"
  }
 },
 "nbformat": 4,
 "nbformat_minor": 4
}
